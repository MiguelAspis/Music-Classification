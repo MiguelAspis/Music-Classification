{
 "cells": [
  {
   "cell_type": "code",
   "execution_count": 9,
   "metadata": {},
   "outputs": [],
   "source": [
    "import json\n",
    "import numpy as np\n",
    "from sklearn.model_selection import train_test_split\n",
    "from keras.models import Sequential\n",
    "from keras.layers import Dense, LSTM, Dropout"
   ]
  },
  {
   "cell_type": "code",
   "execution_count": 10,
   "metadata": {},
   "outputs": [],
   "source": [
    "with open('data.json') as f:\n",
    "    data = json.load(f)\n",
    "\n",
    "X = np.array(data[\"mfcc\"])\n",
    "y = np.array(data[\"labels\"])"
   ]
  },
  {
   "cell_type": "code",
   "execution_count": 11,
   "metadata": {},
   "outputs": [],
   "source": [
    "X_train, X_test, y_train, y_test = train_test_split(X, y, test_size = 0.25)\n",
    "\n",
    "X_train, X_validation, y_train, y_validation = train_test_split(X_train, y_train, test_size = 0.2)"
   ]
  },
  {
   "cell_type": "code",
   "execution_count": 12,
   "metadata": {},
   "outputs": [],
   "source": [
    "input_shape = (X_train.shape[1], X_train.shape[2])\n",
    "\n",
    "model = Sequential()"
   ]
  },
  {
   "cell_type": "code",
   "execution_count": 13,
   "metadata": {},
   "outputs": [],
   "source": [
    "model.add(LSTM(64, input_shape=input_shape, return_sequences=True))\n",
    "\n",
    "model.add(LSTM(64))\n",
    "\n",
    "model.add(Dense(64, activation='relu'))\n",
    "model.add(Dropout(0.3))\n",
    "model.add(Dense(10, activation='softmax'))"
   ]
  },
  {
   "cell_type": "code",
   "execution_count": 14,
   "metadata": {},
   "outputs": [],
   "source": [
    "model.compile(optimizer=\"Adam\",\n",
    "     loss = \"sparse_categorical_crossentropy\",\n",
    "     metrics=[\"accuracy\"])"
   ]
  },
  {
   "cell_type": "code",
   "execution_count": 15,
   "metadata": {},
   "outputs": [
    {
     "name": "stdout",
     "output_type": "stream",
     "text": [
      "Train on 5997 samples, validate on 1500 samples\n",
      "Epoch 1/30\n",
      "5997/5997 [==============================] - 47s 8ms/step - loss: 1.7776 - accuracy: 0.3735 - val_loss: 1.4731 - val_accuracy: 0.4720\n",
      "Epoch 2/30\n",
      "5997/5997 [==============================] - 33s 6ms/step - loss: 1.4557 - accuracy: 0.4829 - val_loss: 1.4161 - val_accuracy: 0.4767\n",
      "Epoch 3/30\n",
      "5997/5997 [==============================] - 34s 6ms/step - loss: 1.3067 - accuracy: 0.5301 - val_loss: 1.2595 - val_accuracy: 0.5413\n",
      "Epoch 4/30\n",
      "5997/5997 [==============================] - 35s 6ms/step - loss: 1.1899 - accuracy: 0.5858 - val_loss: 1.1814 - val_accuracy: 0.5660\n",
      "Epoch 5/30\n",
      "5997/5997 [==============================] - 37s 6ms/step - loss: 1.1370 - accuracy: 0.6003 - val_loss: 1.1958 - val_accuracy: 0.5693\n",
      "Epoch 6/30\n",
      "5997/5997 [==============================] - 36s 6ms/step - loss: 1.0852 - accuracy: 0.6196 - val_loss: 1.1131 - val_accuracy: 0.6060\n",
      "Epoch 7/30\n",
      "5997/5997 [==============================] - 36s 6ms/step - loss: 1.0220 - accuracy: 0.6465 - val_loss: 1.1208 - val_accuracy: 0.6060\n",
      "Epoch 8/30\n",
      "5997/5997 [==============================] - 35s 6ms/step - loss: 0.9943 - accuracy: 0.6520 - val_loss: 1.0168 - val_accuracy: 0.6367\n",
      "Epoch 9/30\n",
      "5997/5997 [==============================] - 36s 6ms/step - loss: 0.9476 - accuracy: 0.6777 - val_loss: 1.0117 - val_accuracy: 0.6407\n",
      "Epoch 10/30\n",
      "5997/5997 [==============================] - 36s 6ms/step - loss: 0.9046 - accuracy: 0.6927 - val_loss: 0.9913 - val_accuracy: 0.6513\n",
      "Epoch 11/30\n",
      "5997/5997 [==============================] - 36s 6ms/step - loss: 0.8550 - accuracy: 0.7062 - val_loss: 0.9857 - val_accuracy: 0.6527\n",
      "Epoch 12/30\n",
      "5997/5997 [==============================] - 39s 7ms/step - loss: 0.8007 - accuracy: 0.7220 - val_loss: 0.9338 - val_accuracy: 0.6740\n",
      "Epoch 13/30\n",
      "5997/5997 [==============================] - 37s 6ms/step - loss: 0.7961 - accuracy: 0.7389 - val_loss: 0.9433 - val_accuracy: 0.6780\n",
      "Epoch 14/30\n",
      "5997/5997 [==============================] - 37s 6ms/step - loss: 0.7319 - accuracy: 0.7567 - val_loss: 0.9233 - val_accuracy: 0.7013\n",
      "Epoch 15/30\n",
      "5997/5997 [==============================] - 37s 6ms/step - loss: 0.7087 - accuracy: 0.7640 - val_loss: 0.9523 - val_accuracy: 0.6833\n",
      "Epoch 16/30\n",
      "5997/5997 [==============================] - 37s 6ms/step - loss: 0.6665 - accuracy: 0.7797 - val_loss: 0.9247 - val_accuracy: 0.6933\n",
      "Epoch 17/30\n",
      "5997/5997 [==============================] - 39s 6ms/step - loss: 0.6552 - accuracy: 0.7779 - val_loss: 0.9158 - val_accuracy: 0.6987\n",
      "Epoch 18/30\n",
      "5997/5997 [==============================] - 41s 7ms/step - loss: 0.6084 - accuracy: 0.7959 - val_loss: 0.8688 - val_accuracy: 0.7127\n",
      "Epoch 19/30\n",
      "5997/5997 [==============================] - 40s 7ms/step - loss: 0.5833 - accuracy: 0.8062 - val_loss: 0.8938 - val_accuracy: 0.7207\n",
      "Epoch 20/30\n",
      "5997/5997 [==============================] - 41s 7ms/step - loss: 0.5743 - accuracy: 0.8087 - val_loss: 0.8777 - val_accuracy: 0.7020\n",
      "Epoch 21/30\n",
      "5997/5997 [==============================] - 40s 7ms/step - loss: 0.5678 - accuracy: 0.8096 - val_loss: 0.8439 - val_accuracy: 0.7260\n",
      "Epoch 22/30\n",
      "5997/5997 [==============================] - 43s 7ms/step - loss: 0.5377 - accuracy: 0.8212 - val_loss: 0.9191 - val_accuracy: 0.7000\n",
      "Epoch 23/30\n",
      "5997/5997 [==============================] - 42s 7ms/step - loss: 0.5147 - accuracy: 0.8264 - val_loss: 0.8807 - val_accuracy: 0.7207\n",
      "Epoch 24/30\n",
      "5997/5997 [==============================] - 42s 7ms/step - loss: 0.4833 - accuracy: 0.8396 - val_loss: 0.8444 - val_accuracy: 0.7353\n",
      "Epoch 25/30\n",
      "5997/5997 [==============================] - 42s 7ms/step - loss: 0.4416 - accuracy: 0.8553 - val_loss: 0.8441 - val_accuracy: 0.7273\n",
      "Epoch 26/30\n",
      "5997/5997 [==============================] - 42s 7ms/step - loss: 0.4602 - accuracy: 0.8464 - val_loss: 0.8889 - val_accuracy: 0.7180\n",
      "Epoch 27/30\n",
      "5997/5997 [==============================] - 42s 7ms/step - loss: 0.4428 - accuracy: 0.8538 - val_loss: 0.8569 - val_accuracy: 0.7487\n",
      "Epoch 28/30\n",
      "5997/5997 [==============================] - 60s 10ms/step - loss: 0.4211 - accuracy: 0.8594 - val_loss: 0.8432 - val_accuracy: 0.7327\n",
      "Epoch 29/30\n",
      "5997/5997 [==============================] - 77s 13ms/step - loss: 0.3878 - accuracy: 0.8723 - val_loss: 0.8734 - val_accuracy: 0.7347\n",
      "Epoch 30/30\n",
      "5997/5997 [==============================] - 77s 13ms/step - loss: 0.3734 - accuracy: 0.8753 - val_loss: 0.8945 - val_accuracy: 0.7380\n"
     ]
    },
    {
     "data": {
      "text/plain": [
       "<keras.callbacks.callbacks.History at 0x32c25910>"
      ]
     },
     "execution_count": 15,
     "metadata": {},
     "output_type": "execute_result"
    }
   ],
   "source": [
    "model.fit(X_train, y_train,\n",
    "          validation_data=(X_validation, y_validation),\n",
    "          epochs=30,\n",
    "          batch_size=32)"
   ]
  },
  {
   "cell_type": "code",
   "execution_count": 16,
   "metadata": {},
   "outputs": [
    {
     "name": "stdout",
     "output_type": "stream",
     "text": [
      "2499/2499 [==============================] - 8s 3ms/step\n"
     ]
    }
   ],
   "source": [
    "test_error, test_accuracy = model.evaluate(X_test, y_test)"
   ]
  },
  {
   "cell_type": "code",
   "execution_count": 17,
   "metadata": {},
   "outputs": [
    {
     "data": {
      "text/plain": [
       "0.7655062079429626"
      ]
     },
     "execution_count": 17,
     "metadata": {},
     "output_type": "execute_result"
    }
   ],
   "source": [
    "test_accuracy"
   ]
  },
  {
   "cell_type": "code",
   "execution_count": 20,
   "metadata": {},
   "outputs": [
    {
     "data": {
      "text/plain": [
       "array([[1.16880865e-05, 1.27638089e-06, 8.49302858e-03, ...,\n",
       "        9.23977613e-01, 1.73929753e-03, 5.28592728e-02],\n",
       "       [3.29857556e-07, 2.23558757e-07, 1.51122163e-06, ...,\n",
       "        6.80660605e-06, 2.81964458e-04, 1.08111021e-03],\n",
       "       [5.34944775e-06, 9.91381943e-01, 5.21482689e-05, ...,\n",
       "        5.11731960e-05, 1.56633523e-05, 1.29472828e-04],\n",
       "       ...,\n",
       "       [5.54740429e-04, 7.24929618e-04, 3.00145764e-02, ...,\n",
       "        3.08502291e-04, 1.56741384e-02, 1.90256513e-03],\n",
       "       [3.12019745e-03, 2.63916980e-03, 9.48397666e-02, ...,\n",
       "        6.20005070e-04, 1.81804616e-02, 7.60341510e-02],\n",
       "       [1.31526450e-03, 4.01880953e-07, 1.80246552e-05, ...,\n",
       "        1.02746299e-06, 2.56689586e-04, 1.67605150e-02]], dtype=float32)"
      ]
     },
     "execution_count": 20,
     "metadata": {},
     "output_type": "execute_result"
    }
   ],
   "source": [
    "model.predict(X_test)\n"
   ]
  },
  {
   "cell_type": "code",
   "execution_count": null,
   "metadata": {},
   "outputs": [],
   "source": []
  }
 ],
 "metadata": {
  "kernelspec": {
   "display_name": "Python 3",
   "language": "python",
   "name": "python3"
  },
  "language_info": {
   "codemirror_mode": {
    "name": "ipython",
    "version": 3
   },
   "file_extension": ".py",
   "mimetype": "text/x-python",
   "name": "python",
   "nbconvert_exporter": "python",
   "pygments_lexer": "ipython3",
   "version": "3.8.3rc1"
  }
 },
 "nbformat": 4,
 "nbformat_minor": 4
}
