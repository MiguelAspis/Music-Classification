{
 "cells": [
  {
   "cell_type": "markdown",
   "metadata": {},
   "source": [
    "### CNN for music classification "
   ]
  },
  {
   "cell_type": "markdown",
   "metadata": {},
   "source": [
    "## Imports"
   ]
  },
  {
   "cell_type": "code",
   "execution_count": 21,
   "metadata": {},
   "outputs": [],
   "source": [
    "import json\n",
    "import numpy as np\n",
    "from sklearn.model_selection import train_test_split\n",
    "from keras.models import Sequential\n",
    "from keras.layers import Dense, Flatten, Conv2D, MaxPool2D, BatchNormalization, Dropout"
   ]
  },
  {
   "cell_type": "markdown",
   "metadata": {},
   "source": [
    "## Loading Data"
   ]
  },
  {
   "cell_type": "code",
   "execution_count": 4,
   "metadata": {},
   "outputs": [],
   "source": [
    "with open('data.json') as f:\n",
    "    data = json.load(f)\n",
    "\n",
    "X = np.array(data[\"mfcc\"])\n",
    "y = np.array(data[\"labels\"])"
   ]
  },
  {
   "cell_type": "markdown",
   "metadata": {},
   "source": [
    "## Splitting training, testing and validation data"
   ]
  },
  {
   "cell_type": "code",
   "execution_count": 15,
   "metadata": {},
   "outputs": [],
   "source": [
    "X_train, X_test, y_train, y_test = train_test_split(X, y, test_size = 0.25)\n",
    "\n",
    "X_train, X_validation, y_train, y_validation = train_test_split(X_train, y_train, test_size = 0.2)\n",
    "\n",
    "#Changing shape of inputs\n",
    "X_train = X_train[..., np.newaxis]\n",
    "X_test = X_test[..., np.newaxis]\n",
    "X_validation = X_validation[..., np.newaxis]"
   ]
  },
  {
   "cell_type": "code",
   "execution_count": 17,
   "metadata": {},
   "outputs": [
    {
     "data": {
      "text/plain": [
       "(5997, 130, 13, 1)"
      ]
     },
     "execution_count": 17,
     "metadata": {},
     "output_type": "execute_result"
    }
   ],
   "source": [
    "X_train.shape"
   ]
  },
  {
   "cell_type": "markdown",
   "metadata": {},
   "source": [
    "## Defining 3 layered CNN"
   ]
  },
  {
   "cell_type": "code",
   "execution_count": 23,
   "metadata": {},
   "outputs": [],
   "source": [
    "model = Sequential()\n",
    "\n",
    "input_shape = (X_train.shape[1], X_train.shape[2], X_train.shape[3])\n",
    "\n",
    "model.add(Conv2D(32, (3, 3), activation='relu', input_shape=input_shape))\n",
    "model.add(MaxPool2D(pool_size=(3,3), strides=(2,2), padding='same'))\n",
    "model.add(BatchNormalization())\n",
    "          \n",
    "          \n",
    "model.add(Conv2D(32, (3, 3), activation='relu'))\n",
    "model.add(MaxPool2D(pool_size=(3,3), strides=(2,2), padding='same'))\n",
    "model.add(BatchNormalization())\n",
    "    \n",
    "model.add(Conv2D(32, (2, 2), activation='relu'))\n",
    "model.add(MaxPool2D(pool_size=(2,2), strides=(2,2), padding='same'))\n",
    "model.add(BatchNormalization())\n",
    "\n",
    "model.add(Flatten())\n",
    "model.add(Dropout(0.3))\n",
    "          \n",
    "model.add(Dense(64, activation='relu'))\n",
    "model.add(Dense(10, activation='softmax'))"
   ]
  },
  {
   "cell_type": "markdown",
   "metadata": {},
   "source": [
    "## Compiling"
   ]
  },
  {
   "cell_type": "code",
   "execution_count": 24,
   "metadata": {},
   "outputs": [],
   "source": [
    "model.compile(optimizer=\"Adam\",\n",
    "     loss = \"sparse_categorical_crossentropy\",\n",
    "     metrics=[\"accuracy\"])"
   ]
  },
  {
   "cell_type": "markdown",
   "metadata": {},
   "source": [
    "## Training"
   ]
  },
  {
   "cell_type": "code",
   "execution_count": 25,
   "metadata": {},
   "outputs": [
    {
     "name": "stdout",
     "output_type": "stream",
     "text": [
      "Train on 5997 samples, validate on 1500 samples\n",
      "Epoch 1/50\n",
      "5997/5997 [==============================] - 13s 2ms/step - loss: 1.6823 - accuracy: 0.4070 - val_loss: 1.6200 - val_accuracy: 0.4373\n",
      "Epoch 2/50\n",
      "5997/5997 [==============================] - 11s 2ms/step - loss: 1.2347 - accuracy: 0.5506 - val_loss: 1.3199 - val_accuracy: 0.5140\n",
      "Epoch 3/50\n",
      "5997/5997 [==============================] - 13s 2ms/step - loss: 1.0497 - accuracy: 0.6263 - val_loss: 1.4155 - val_accuracy: 0.5027\n",
      "Epoch 4/50\n",
      "5997/5997 [==============================] - 12s 2ms/step - loss: 0.9326 - accuracy: 0.6622 - val_loss: 0.9705 - val_accuracy: 0.6487\n",
      "Epoch 5/50\n",
      "5997/5997 [==============================] - 11s 2ms/step - loss: 0.8613 - accuracy: 0.6902 - val_loss: 0.9874 - val_accuracy: 0.6433\n",
      "Epoch 6/50\n",
      "5997/5997 [==============================] - 11s 2ms/step - loss: 0.7768 - accuracy: 0.7265 - val_loss: 0.8948 - val_accuracy: 0.6773\n",
      "Epoch 7/50\n",
      "5997/5997 [==============================] - 12s 2ms/step - loss: 0.7406 - accuracy: 0.7390 - val_loss: 0.8369 - val_accuracy: 0.7053\n",
      "Epoch 8/50\n",
      "5997/5997 [==============================] - 11s 2ms/step - loss: 0.6934 - accuracy: 0.7584 - val_loss: 0.8386 - val_accuracy: 0.7067\n",
      "Epoch 9/50\n",
      "5997/5997 [==============================] - 11s 2ms/step - loss: 0.6283 - accuracy: 0.7804 - val_loss: 0.7695 - val_accuracy: 0.7240\n",
      "Epoch 10/50\n",
      "5997/5997 [==============================] - 11s 2ms/step - loss: 0.5973 - accuracy: 0.7912 - val_loss: 1.1006 - val_accuracy: 0.6333\n",
      "Epoch 11/50\n",
      "5997/5997 [==============================] - 11s 2ms/step - loss: 0.5501 - accuracy: 0.8054 - val_loss: 0.8453 - val_accuracy: 0.6987\n",
      "Epoch 12/50\n",
      "5997/5997 [==============================] - 11s 2ms/step - loss: 0.5219 - accuracy: 0.8114 - val_loss: 0.8455 - val_accuracy: 0.7213\n",
      "Epoch 13/50\n",
      "5997/5997 [==============================] - 11s 2ms/step - loss: 0.4962 - accuracy: 0.8226 - val_loss: 0.9155 - val_accuracy: 0.6947\n",
      "Epoch 14/50\n",
      "5997/5997 [==============================] - 13s 2ms/step - loss: 0.4847 - accuracy: 0.8307 - val_loss: 0.7767 - val_accuracy: 0.7500\n",
      "Epoch 15/50\n",
      "5997/5997 [==============================] - 12s 2ms/step - loss: 0.4417 - accuracy: 0.8398 - val_loss: 0.8536 - val_accuracy: 0.7193\n",
      "Epoch 16/50\n",
      "5997/5997 [==============================] - 11s 2ms/step - loss: 0.4215 - accuracy: 0.8529 - val_loss: 0.9538 - val_accuracy: 0.7027\n",
      "Epoch 17/50\n",
      "5997/5997 [==============================] - 12s 2ms/step - loss: 0.3894 - accuracy: 0.8653 - val_loss: 0.8959 - val_accuracy: 0.7120\n",
      "Epoch 18/50\n",
      "5997/5997 [==============================] - 12s 2ms/step - loss: 0.3882 - accuracy: 0.8606 - val_loss: 0.7525 - val_accuracy: 0.7587\n",
      "Epoch 19/50\n",
      "5997/5997 [==============================] - 11s 2ms/step - loss: 0.3801 - accuracy: 0.8663 - val_loss: 0.8103 - val_accuracy: 0.7500\n",
      "Epoch 20/50\n",
      "5997/5997 [==============================] - 13s 2ms/step - loss: 0.3401 - accuracy: 0.8769 - val_loss: 0.8034 - val_accuracy: 0.7627\n",
      "Epoch 21/50\n",
      "5997/5997 [==============================] - 13s 2ms/step - loss: 0.3320 - accuracy: 0.8764 - val_loss: 0.6757 - val_accuracy: 0.7840\n",
      "Epoch 22/50\n",
      "5997/5997 [==============================] - 13s 2ms/step - loss: 0.3192 - accuracy: 0.8876 - val_loss: 0.8426 - val_accuracy: 0.7367\n",
      "Epoch 23/50\n",
      "5997/5997 [==============================] - 12s 2ms/step - loss: 0.3196 - accuracy: 0.8894 - val_loss: 0.6942 - val_accuracy: 0.7813\n",
      "Epoch 24/50\n",
      "5997/5997 [==============================] - 12s 2ms/step - loss: 0.3147 - accuracy: 0.8891 - val_loss: 0.7463 - val_accuracy: 0.7853\n",
      "Epoch 25/50\n",
      "5997/5997 [==============================] - 12s 2ms/step - loss: 0.2919 - accuracy: 0.8919 - val_loss: 0.8623 - val_accuracy: 0.7467\n",
      "Epoch 26/50\n",
      "5997/5997 [==============================] - 12s 2ms/step - loss: 0.2816 - accuracy: 0.9040 - val_loss: 0.8224 - val_accuracy: 0.7573\n",
      "Epoch 27/50\n",
      "5997/5997 [==============================] - 11s 2ms/step - loss: 0.2783 - accuracy: 0.9006 - val_loss: 0.7750 - val_accuracy: 0.7847\n",
      "Epoch 28/50\n",
      "5997/5997 [==============================] - 11s 2ms/step - loss: 0.2673 - accuracy: 0.9066 - val_loss: 0.8117 - val_accuracy: 0.7640\n",
      "Epoch 29/50\n",
      "5997/5997 [==============================] - 11s 2ms/step - loss: 0.2492 - accuracy: 0.9133 - val_loss: 0.7623 - val_accuracy: 0.7700\n",
      "Epoch 30/50\n",
      "5997/5997 [==============================] - 16s 3ms/step - loss: 0.2432 - accuracy: 0.9126 - val_loss: 0.8361 - val_accuracy: 0.7720\n",
      "Epoch 31/50\n",
      "5997/5997 [==============================] - 20s 3ms/step - loss: 0.2407 - accuracy: 0.9123 - val_loss: 0.7898 - val_accuracy: 0.7720\n",
      "Epoch 32/50\n",
      "5997/5997 [==============================] - 19s 3ms/step - loss: 0.2156 - accuracy: 0.9210 - val_loss: 0.8365 - val_accuracy: 0.7680\n",
      "Epoch 33/50\n",
      "5997/5997 [==============================] - 20s 3ms/step - loss: 0.2328 - accuracy: 0.9161 - val_loss: 0.8062 - val_accuracy: 0.7800\n",
      "Epoch 34/50\n",
      "5997/5997 [==============================] - 20s 3ms/step - loss: 0.2266 - accuracy: 0.9190 - val_loss: 0.7492 - val_accuracy: 0.7820\n",
      "Epoch 35/50\n",
      "5997/5997 [==============================] - 20s 3ms/step - loss: 0.2098 - accuracy: 0.9260 - val_loss: 0.8030 - val_accuracy: 0.7780\n",
      "Epoch 36/50\n",
      "5997/5997 [==============================] - 19s 3ms/step - loss: 0.1945 - accuracy: 0.9306 - val_loss: 0.8795 - val_accuracy: 0.7673\n",
      "Epoch 37/50\n",
      "5997/5997 [==============================] - 20s 3ms/step - loss: 0.1958 - accuracy: 0.9285 - val_loss: 0.7976 - val_accuracy: 0.7860\n",
      "Epoch 38/50\n",
      "5997/5997 [==============================] - 19s 3ms/step - loss: 0.2118 - accuracy: 0.9263 - val_loss: 0.8474 - val_accuracy: 0.7613\n",
      "Epoch 39/50\n",
      "5997/5997 [==============================] - 20s 3ms/step - loss: 0.1868 - accuracy: 0.9333 - val_loss: 0.9729 - val_accuracy: 0.7453\n",
      "Epoch 40/50\n",
      "5997/5997 [==============================] - 20s 3ms/step - loss: 0.1927 - accuracy: 0.9315 - val_loss: 0.9172 - val_accuracy: 0.7540\n",
      "Epoch 41/50\n",
      "5997/5997 [==============================] - 21s 4ms/step - loss: 0.1766 - accuracy: 0.9415 - val_loss: 0.8370 - val_accuracy: 0.7813\n",
      "Epoch 42/50\n",
      "5997/5997 [==============================] - 25s 4ms/step - loss: 0.1675 - accuracy: 0.9416 - val_loss: 0.8895 - val_accuracy: 0.7627\n",
      "Epoch 43/50\n",
      "5997/5997 [==============================] - 26s 4ms/step - loss: 0.1912 - accuracy: 0.9311 - val_loss: 0.7486 - val_accuracy: 0.7780\n",
      "Epoch 44/50\n",
      "5997/5997 [==============================] - 21s 3ms/step - loss: 0.1652 - accuracy: 0.9405 - val_loss: 0.7212 - val_accuracy: 0.8007\n",
      "Epoch 45/50\n",
      "5997/5997 [==============================] - 21s 3ms/step - loss: 0.1602 - accuracy: 0.9406 - val_loss: 0.9446 - val_accuracy: 0.7587\n",
      "Epoch 46/50\n",
      "5997/5997 [==============================] - 22s 4ms/step - loss: 0.1596 - accuracy: 0.9445 - val_loss: 0.8424 - val_accuracy: 0.7800\n",
      "Epoch 47/50\n",
      "5997/5997 [==============================] - 22s 4ms/step - loss: 0.1681 - accuracy: 0.9415 - val_loss: 0.9075 - val_accuracy: 0.7587\n",
      "Epoch 48/50\n",
      "5997/5997 [==============================] - 23s 4ms/step - loss: 0.1975 - accuracy: 0.9298 - val_loss: 0.9020 - val_accuracy: 0.7793\n",
      "Epoch 49/50\n",
      "5997/5997 [==============================] - 22s 4ms/step - loss: 0.1526 - accuracy: 0.9470 - val_loss: 0.7728 - val_accuracy: 0.7913\n",
      "Epoch 50/50\n",
      "5997/5997 [==============================] - 25s 4ms/step - loss: 0.1682 - accuracy: 0.9385 - val_loss: 0.8855 - val_accuracy: 0.7627\n"
     ]
    },
    {
     "data": {
      "text/plain": [
       "<keras.callbacks.callbacks.History at 0x6555f340>"
      ]
     },
     "execution_count": 25,
     "metadata": {},
     "output_type": "execute_result"
    }
   ],
   "source": [
    "model.fit(X_train, y_train,\n",
    "          validation_data=(X_validation, y_validation),\n",
    "          epochs=30,\n",
    "          batch_size=32)"
   ]
  },
  {
   "cell_type": "markdown",
   "metadata": {},
   "source": [
    "## Evaluating"
   ]
  },
  {
   "cell_type": "code",
   "execution_count": 29,
   "metadata": {},
   "outputs": [
    {
     "name": "stdout",
     "output_type": "stream",
     "text": [
      "2499/2499 [==============================] - 2s 836us/step\n"
     ]
    }
   ],
   "source": [
    "test_error, test_accuracy = model.evaluate(X_test, y_test)"
   ]
  },
  {
   "cell_type": "code",
   "execution_count": 30,
   "metadata": {},
   "outputs": [
    {
     "data": {
      "text/plain": [
       "0.7603040933609009"
      ]
     },
     "execution_count": 30,
     "metadata": {},
     "output_type": "execute_result"
    }
   ],
   "source": [
    "test_accuracy"
   ]
  },
  {
   "cell_type": "markdown",
   "metadata": {},
   "source": [
    "## Predicting"
   ]
  },
  {
   "cell_type": "code",
   "execution_count": 42,
   "metadata": {},
   "outputs": [
    {
     "name": "stdout",
     "output_type": "stream",
     "text": [
      "Expected Class: 1 Predicted Class:[1]\n"
     ]
    }
   ],
   "source": [
    "X = X_test[100]\n",
    "y = y_test[100]\n",
    "\n",
    "\n",
    "X = X[np.newaxis, ...]\n",
    "\n",
    "predict = model.predict(X)\n",
    "index = np.argmax(predict, axis=1)\n",
    "\n",
    "print(\"Expected Class: {} Predicted Class:{}\".format(y,index))"
   ]
  },
  {
   "cell_type": "code",
   "execution_count": null,
   "metadata": {},
   "outputs": [],
   "source": []
  },
  {
   "cell_type": "code",
   "execution_count": null,
   "metadata": {},
   "outputs": [],
   "source": []
  }
 ],
 "metadata": {
  "kernelspec": {
   "display_name": "Python 3",
   "language": "python",
   "name": "python3"
  },
  "language_info": {
   "codemirror_mode": {
    "name": "ipython",
    "version": 3
   },
   "file_extension": ".py",
   "mimetype": "text/x-python",
   "name": "python",
   "nbconvert_exporter": "python",
   "pygments_lexer": "ipython3",
   "version": "3.8.3rc1"
  }
 },
 "nbformat": 4,
 "nbformat_minor": 4
}
